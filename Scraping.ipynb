{
 "cells": [
  {
   "cell_type": "code",
   "execution_count": null,
   "metadata": {},
   "outputs": [],
   "source": [
    "# for scraping links from main category page\n",
    "\n",
    "from bs4 import BeautifulSoup\n",
    "import requests\n",
    "import pandas as pd\n",
    "\n",
    "\n",
    "soup = BeautifulSoup(open(\"C:/Users/azfar/Desktop/exambazaar scraping/exambazaar_eng.html\", \"rb\"))\n",
    "\n",
    "container = soup.find_all(\"a\", {\"id\":\"reviewLink\", \"class\":\"ng-binding\", \"target\":\"_blank\",\n",
    "                               \"ui-sref\":\"x5({ nameslug:coachingGroup.nameslugs[0], areaslug:coachingGroup.areaslugs[0], exam:examId })\"})\n",
    "\n",
    "data = {\"Name\": [],\n",
    "        \"url\": []}\n",
    "\n",
    "for i in range(len(container)):\n",
    "    data[\"Name\"].append(container[i].text)\n",
    "    data[\"url\"].append(container[i].get(\"href\"))\n",
    "\n",
    "data = pd.DataFrame(data)\n",
    "data = data.drop_duplicates(subset = \"url\")\n",
    "print(data.head())\n",
    "data.to_csv(\"eng_links.csv\")\n"
   ]
  },
  {
   "cell_type": "code",
   "execution_count": null,
   "metadata": {},
   "outputs": [],
   "source": [
    "import pandas as pd\n",
    "from tqdm import tqdm\n",
    "import os\n",
    "import time\n",
    "from selenium import webdriver\n",
    "from selenium.webdriver.chrome.options import Options\n",
    "from bs4 import BeautifulSoup\n",
    "from urllib.request import urlretrieve\n",
    "\n",
    "d = pd.read_csv(\"eng_links.csv\")\n",
    "#d[\"url\"][720]\n",
    "d.shape"
   ]
  },
  {
   "cell_type": "code",
   "execution_count": null,
   "metadata": {},
   "outputs": [],
   "source": [
    "# Open and login\n",
    "\n",
    "options = Options()\n",
    "\n",
    "options.add_argument(\"C:\\\\Users\\\\azfar\\\\AppData\\\\Local\\\\Google\\\\Chrome\\\\User Data\")\n",
    "\n",
    "driver = webdriver.Chrome(chrome_options = options)\n",
    "\n",
    "driver.get('https://www.exambazaar.com/c/resonance/mayur-vihar-phase-1-new-delhi')"
   ]
  },
  {
   "cell_type": "code",
   "execution_count": null,
   "metadata": {},
   "outputs": [],
   "source": [
    "# path for images\n",
    "scrape_directory = \"C:/Users/azfar/Desktop/exambazaar scraping/eng_imgs\"\n",
    "\n",
    "eng = {\n",
    "\"name\" : [],\n",
    "\"logo\" : [],\n",
    "\"branch\" : [],\n",
    "\"address\" : [],\n",
    "\"website\" : [],\n",
    "\"branches\": [],\n",
    "\"phno\" : [],\n",
    "\"email\" : []\n",
    "}\n",
    "c = 0\n",
    "for i in tqdm(d[\"url\"]):\n",
    "    driver.get(i)\n",
    "    \n",
    "    data = driver.execute_script(\"return document.documentElement.innerHTML\")\n",
    "    scraper = BeautifulSoup(data, \"lxml\")\n",
    "    #time.sleep(2)\n",
    "    \n",
    "    while True:\n",
    "        try:\n",
    "            eng[\"name\"].append(scraper.find_all(\"h1\", {\"class\": \"width100 pageTitleFont ng-binding\"})[0].text)\n",
    "            break\n",
    "        except:\n",
    "            data = driver.execute_script(\"return document.documentElement.innerHTML\")\n",
    "            scraper = BeautifulSoup(data, \"lxml\")\n",
    "            continue\n",
    "    \n",
    "    try:\n",
    "        eng[\"branch\"].append(scraper.find_all(\"div\", {\"ng-if\": \"coaching.type == 'Coaching'\", \"class\": \"baseFont ng-binding ng-scope\"})[0].text)\n",
    "    except:\n",
    "        eng[\"branch\"].append(None)\n",
    "    \n",
    "    try:\n",
    "        eng[\"address\"].append(scraper.find_all(\"div\", {\"class\": \"width100 paddingT10 ng-binding\"})[0].text)\n",
    "    except:\n",
    "        eng[\"address\"].append(None)\n",
    "    try:\n",
    "        eng[\"website\"].append(scraper.find_all(\"a\", {\"class\": \"hoverUnderline ng-binding\"})[0].text)\n",
    "    except:\n",
    "        eng[\"website\"].append(None)\n",
    "        \n",
    "    try:\n",
    "        p = scraper.find_all(\"a\", {\"class\": \"ng-binding ng-scope\"})\n",
    "        ps = []\n",
    "        for j in p:\n",
    "            ps.append(j.text)\n",
    "    \n",
    "        eng[\"phno\"].append(ps)\n",
    "    except:\n",
    "        eng[\"phno\"].append(None)\n",
    "    \n",
    "    try:\n",
    "        b = scraper.find_all(\"a\", {\"class\": \"inlineLink ng-binding\",\n",
    "                               \"ui-sref\":\"x5({nameslug: thisCenter.nameslug, areaslug: thisCenter.areaslug })\"})\n",
    "        bs = []\n",
    "        for i in b:\n",
    "            bs.append(i.text)\n",
    "        eng[\"branches\"].append(bs)\n",
    "    except:\n",
    "        eng[\"branches\"].append(None)\n",
    "\n",
    "    try:\n",
    "        e = scraper.find_all(\"a\", {\"class\": \"hoverUnderline ng-binding ng-scope\"})\n",
    "        es = []\n",
    "        for j in e:\n",
    "            es.append(j.text)\n",
    "    \n",
    "        eng[\"email\"].append(es)\n",
    "    except:\n",
    "        eng[\"email\"].append(None)\n",
    "    \n",
    "    try:\n",
    "        img = scraper.find_all(\"img\", {\"class\":\"width100 ng-scope\"})[0].get(\"data-src\")\n",
    "        img_path = os.path.join(scrape_directory, os.path.basename(str(c)+\".jpg\")\n",
    "        urlretrieve(img, img_path))\n",
    "        eng[\"logo\"].append(img_path)\n",
    "    except:\n",
    "        eng[\"logo\"].append(None)\n",
    "        \n",
    "    c+=1\n",
    "\n",
    "d = pd.DataFrame(eng)\n",
    "d[\"address\"] = d[\"address\"].apply(lambda x: \" \".join(x.replace(\"\\n\", \"\").replace(\"See Map\", \"\").split()))"
   ]
  },
  {
   "cell_type": "code",
   "execution_count": null,
   "metadata": {},
   "outputs": [],
   "source": []
  },
  {
   "cell_type": "code",
   "execution_count": null,
   "metadata": {},
   "outputs": [],
   "source": []
  },
  {
   "cell_type": "code",
   "execution_count": null,
   "metadata": {},
   "outputs": [],
   "source": []
  },
  {
   "cell_type": "code",
   "execution_count": null,
   "metadata": {},
   "outputs": [],
   "source": [
    "driver.get(\"https://www.exambazaar.com/c/mvm-classes/rohini-delhi\")"
   ]
  },
  {
   "cell_type": "code",
   "execution_count": null,
   "metadata": {},
   "outputs": [],
   "source": [
    "data = driver.execute_script(\"return document.documentElement.innerHTML\")"
   ]
  },
  {
   "cell_type": "code",
   "execution_count": null,
   "metadata": {},
   "outputs": [],
   "source": [
    "scraper = BeautifulSoup(data, \"lxml\")\n",
    "scraper.find_all(\"h1\", {\"class\": \"width100 pageTitleFont ng-binding\"})\n"
   ]
  },
  {
   "cell_type": "code",
   "execution_count": null,
   "metadata": {},
   "outputs": [],
   "source": [
    "scraper.find_all(\"div\", {\"ng-if\": \"coaching.type == 'Coaching'\", \"class\": \"baseFont ng-binding ng-scope\"})[0].text"
   ]
  },
  {
   "cell_type": "code",
   "execution_count": null,
   "metadata": {},
   "outputs": [],
   "source": [
    "scraper.find_all(\"div\", {\"class\": \"width100 paddingT10 ng-binding\"})[0].text"
   ]
  },
  {
   "cell_type": "code",
   "execution_count": null,
   "metadata": {},
   "outputs": [],
   "source": [
    "# loop\n",
    "scraper.find_all(\"a\", {\"class\": \"hoverUnderline ng-binding\"})[0].text\n"
   ]
  },
  {
   "cell_type": "code",
   "execution_count": null,
   "metadata": {},
   "outputs": [],
   "source": [
    "# loop\n",
    "scraper.find_all(\"a\", {\"class\": \"ng-binding ng-scope\"})[0].text"
   ]
  },
  {
   "cell_type": "code",
   "execution_count": null,
   "metadata": {},
   "outputs": [],
   "source": [
    "# loop\n",
    "scraper.find_all(\"a\", {\"class\": \"hoverUnderline ng-binding ng-scope\"})[0].text"
   ]
  },
  {
   "cell_type": "code",
   "execution_count": null,
   "metadata": {},
   "outputs": [],
   "source": [
    "img = scraper.find_all(\"img\", {\"class\":\"width100 ng-scope\"})[0].get(\"data-src\")\n",
    "urlretrieve(img_src, os.path.join(scrape_directory\\, os.path.basename(img_src)))"
   ]
  },
  {
   "cell_type": "code",
   "execution_count": null,
   "metadata": {},
   "outputs": [],
   "source": [
    "# branches\n",
    "scraper.find_all(\"a\", {\"class\": \"inlineLink ng-binding\", \"ui-sref\":\"x5({nameslug: thisCenter.nameslug, areaslug: thisCenter.areaslug })\"})[0].text\n",
    "\n",
    "\n",
    "\n",
    "# TODO : Add branch links as well"
   ]
  },
  {
   "cell_type": "code",
   "execution_count": 1,
   "metadata": {},
   "outputs": [],
   "source": [
    "import pandas as pd\n",
    "\n",
    "x = pd.read_csv(\"eng_data.csv\")"
   ]
  },
  {
   "cell_type": "code",
   "execution_count": 16,
   "metadata": {},
   "outputs": [],
   "source": [
    "x[\"address\"] = x[\"address\"].apply(lambda x: \" \".join(x.replace(\"\\n\", \"\").replace(\"See Map\", \"\").split()))"
   ]
  },
  {
   "cell_type": "code",
   "execution_count": 18,
   "metadata": {},
   "outputs": [
    {
     "data": {
      "text/plain": [
       "0      East Campus-14, Pratap Nagar, Mayur Vihar, Pha...\n",
       "1      31, 32, 33, Central Market, West Punjabi Bagh,...\n",
       "2           K-11, South Extension Part- I, Delhi, 110049\n",
       "3      Ground Floor, A1/173A, Near Eye7 Chaudhary Eye...\n",
       "4      65-A, First Floor, OMPRO Tower, Kalu Sarai, De...\n",
       "                             ...                        \n",
       "348    R-18, Opp. Oriental Bank of Commerce, Rita Blk...\n",
       "349    Plot No. 9, Opposite Jdm Appartment, Sector 5,...\n",
       "350    D-14/187, Sector 8, Rohini (Near Sri Sai Baba ...\n",
       "351                 Ground Floor, Kalkaji, Delhi, 110019\n",
       "352    E-67, Super Sine Chowk, East Vinod Nagar, Delh...\n",
       "Name: address, Length: 353, dtype: object"
      ]
     },
     "execution_count": 18,
     "metadata": {},
     "output_type": "execute_result"
    }
   ],
   "source": [
    "x[\"address\"]"
   ]
  },
  {
   "cell_type": "code",
   "execution_count": 19,
   "metadata": {},
   "outputs": [
    {
     "data": {
      "text/html": [
       "<div>\n",
       "<style scoped>\n",
       "    .dataframe tbody tr th:only-of-type {\n",
       "        vertical-align: middle;\n",
       "    }\n",
       "\n",
       "    .dataframe tbody tr th {\n",
       "        vertical-align: top;\n",
       "    }\n",
       "\n",
       "    .dataframe thead th {\n",
       "        text-align: right;\n",
       "    }\n",
       "</style>\n",
       "<table border=\"1\" class=\"dataframe\">\n",
       "  <thead>\n",
       "    <tr style=\"text-align: right;\">\n",
       "      <th></th>\n",
       "      <th>name</th>\n",
       "      <th>address</th>\n",
       "      <th>website</th>\n",
       "      <th>phno</th>\n",
       "      <th>email</th>\n",
       "    </tr>\n",
       "  </thead>\n",
       "  <tbody>\n",
       "    <tr>\n",
       "      <th>0</th>\n",
       "      <td>Resonance</td>\n",
       "      <td>East Campus-14, Pratap Nagar, Mayur Vihar, Pha...</td>\n",
       "      <td>http://www.delhi.resonance.ac.in/index.aspx</td>\n",
       "      <td>['9015117327', '9310334610', '011-60606603', '...</td>\n",
       "      <td>['delhie@resonance.ac.in', 'delhi@resonance.ac...</td>\n",
       "    </tr>\n",
       "    <tr>\n",
       "      <th>1</th>\n",
       "      <td>FIITJEE</td>\n",
       "      <td>31, 32, 33, Central Market, West Punjabi Bagh,...</td>\n",
       "      <td>http://www.fiitjee.com</td>\n",
       "      <td>['011-45634000', ' 45634003']</td>\n",
       "      <td>['dist.edu@fiitjee.com', 'info@fiitjee.com']</td>\n",
       "    </tr>\n",
       "    <tr>\n",
       "      <th>2</th>\n",
       "      <td>Aakash Institute</td>\n",
       "      <td>K-11, South Extension Part- I, Delhi, 110049</td>\n",
       "      <td>http://www.aakashinstitute.com</td>\n",
       "      <td>['011-39454545', ' 46203456', ' 46203234']</td>\n",
       "      <td>[]</td>\n",
       "    </tr>\n",
       "    <tr>\n",
       "      <th>3</th>\n",
       "      <td>Rao IIT Academy</td>\n",
       "      <td>Ground Floor, A1/173A, Near Eye7 Chaudhary Eye...</td>\n",
       "      <td>http://www.raoiitacademy.com</td>\n",
       "      <td>['7065700037', '7065700038']</td>\n",
       "      <td>['studentcare@raoiit.com']</td>\n",
       "    </tr>\n",
       "    <tr>\n",
       "      <th>4</th>\n",
       "      <td>PACE IIT and Medical</td>\n",
       "      <td>65-A, First Floor, OMPRO Tower, Kalu Sarai, De...</td>\n",
       "      <td>http://www.iitianspace.com</td>\n",
       "      <td>['9999732400', '9582633552', '011-41032930', '...</td>\n",
       "      <td>['pacedelhi@iitianspace.com', 'info@iitianspac...</td>\n",
       "    </tr>\n",
       "  </tbody>\n",
       "</table>\n",
       "</div>"
      ],
      "text/plain": [
       "                   name                                            address  \\\n",
       "0             Resonance  East Campus-14, Pratap Nagar, Mayur Vihar, Pha...   \n",
       "1               FIITJEE  31, 32, 33, Central Market, West Punjabi Bagh,...   \n",
       "2      Aakash Institute       K-11, South Extension Part- I, Delhi, 110049   \n",
       "3       Rao IIT Academy  Ground Floor, A1/173A, Near Eye7 Chaudhary Eye...   \n",
       "4  PACE IIT and Medical  65-A, First Floor, OMPRO Tower, Kalu Sarai, De...   \n",
       "\n",
       "                                       website  \\\n",
       "0  http://www.delhi.resonance.ac.in/index.aspx   \n",
       "1                       http://www.fiitjee.com   \n",
       "2               http://www.aakashinstitute.com   \n",
       "3                 http://www.raoiitacademy.com   \n",
       "4                   http://www.iitianspace.com   \n",
       "\n",
       "                                                phno  \\\n",
       "0  ['9015117327', '9310334610', '011-60606603', '...   \n",
       "1                      ['011-45634000', ' 45634003']   \n",
       "2         ['011-39454545', ' 46203456', ' 46203234']   \n",
       "3                       ['7065700037', '7065700038']   \n",
       "4  ['9999732400', '9582633552', '011-41032930', '...   \n",
       "\n",
       "                                               email  \n",
       "0  ['delhie@resonance.ac.in', 'delhi@resonance.ac...  \n",
       "1       ['dist.edu@fiitjee.com', 'info@fiitjee.com']  \n",
       "2                                                 []  \n",
       "3                         ['studentcare@raoiit.com']  \n",
       "4  ['pacedelhi@iitianspace.com', 'info@iitianspac...  "
      ]
     },
     "execution_count": 19,
     "metadata": {},
     "output_type": "execute_result"
    }
   ],
   "source": [
    "x.head()"
   ]
  },
  {
   "cell_type": "code",
   "execution_count": 24,
   "metadata": {},
   "outputs": [],
   "source": [
    "x.to_excel(\"eng_data.xlsx\", index = False)"
   ]
  },
  {
   "cell_type": "code",
   "execution_count": null,
   "metadata": {},
   "outputs": [],
   "source": []
  },
  {
   "cell_type": "code",
   "execution_count": null,
   "metadata": {},
   "outputs": [],
   "source": []
  }
 ],
 "metadata": {
  "kernelspec": {
   "display_name": "Python 3",
   "language": "python",
   "name": "python3"
  },
  "language_info": {
   "codemirror_mode": {
    "name": "ipython",
    "version": 3
   },
   "file_extension": ".py",
   "mimetype": "text/x-python",
   "name": "python",
   "nbconvert_exporter": "python",
   "pygments_lexer": "ipython3",
   "version": "3.7.0"
  }
 },
 "nbformat": 4,
 "nbformat_minor": 2
}
