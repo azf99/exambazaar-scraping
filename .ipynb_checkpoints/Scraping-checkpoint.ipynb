{
 "cells": [
  {
   "cell_type": "code",
   "execution_count": null,
   "metadata": {},
   "outputs": [],
   "source": [
    "# for scraping links from main category page\n",
    "\n",
    "from bs4 import BeautifulSoup\n",
    "import requests\n",
    "import pandas as pd\n",
    "\n",
    "\n",
    "soup = BeautifulSoup(open(\"C:/Users/azfar/Desktop/exambazaar scraping/exambazaar_eng.html\", \"rb\"))\n",
    "\n",
    "container = soup.find_all(\"a\", {\"id\":\"reviewLink\", \"class\":\"ng-binding\", \"target\":\"_blank\",\n",
    "                               \"ui-sref\":\"x5({ nameslug:coachingGroup.nameslugs[0], areaslug:coachingGroup.areaslugs[0], exam:examId })\"})\n",
    "\n",
    "data = {\"Name\": [],\n",
    "        \"url\": []}\n",
    "\n",
    "for i in range(len(container)):\n",
    "    data[\"Name\"].append(container[i].text)\n",
    "    data[\"url\"].append(container[i].get(\"href\"))\n",
    "\n",
    "data = pd.DataFrame(data)\n",
    "data = data.drop_duplicates(subset = \"url\")\n",
    "print(data.head())\n",
    "data.to_csv(\"eng_links.csv\")\n"
   ]
  },
  {
   "cell_type": "code",
   "execution_count": null,
   "metadata": {},
   "outputs": [],
   "source": [
    "import pandas as pd\n",
    "from tqdm import tqdm\n",
    "import os\n",
    "import time\n",
    "from selenium import webdriver\n",
    "from selenium.webdriver.chrome.options import Options\n",
    "from bs4 import BeautifulSoup\n",
    "from urllib.request import urlretrieve\n",
    "\n",
    "d = pd.read_csv(\"eng_links.csv\")\n",
    "#d[\"url\"][720]\n",
    "d.shape"
   ]
  },
  {
   "cell_type": "code",
   "execution_count": null,
   "metadata": {},
   "outputs": [],
   "source": [
    "# Open and login\n",
    "\n",
    "options = Options()\n",
    "\n",
    "options.add_argument(\"C:\\\\Users\\\\azfar\\\\AppData\\\\Local\\\\Google\\\\Chrome\\\\User Data\")\n",
    "\n",
    "driver = webdriver.Chrome(chrome_options = options)\n",
    "\n",
    "driver.get('https://www.exambazaar.com/c/resonance/mayur-vihar-phase-1-new-delhi')"
   ]
  },
  {
   "cell_type": "code",
   "execution_count": null,
   "metadata": {},
   "outputs": [],
   "source": [
    "# path for images\n",
    "scrape_directory = \"C:/Users/azfar/Desktop/exambazaar scraping/eng_imgs\"\n",
    "\n",
    "eng = {\n",
    "\"name\" : [],\n",
    "\"logo\" : [],\n",
    "\"branch\" : [],\n",
    "\"address\" : [],\n",
    "\"website\" : [],\n",
    "\"branches\": [],\n",
    "\"phno\" : [],\n",
    "\"email\" : []\n",
    "}\n",
    "c = 0\n",
    "for i in tqdm(d[\"url\"]):\n",
    "    driver.get(i)\n",
    "    \n",
    "    data = driver.execute_script(\"return document.documentElement.innerHTML\")\n",
    "    scraper = BeautifulSoup(data, \"lxml\")\n",
    "    #time.sleep(2)\n",
    "    \n",
    "    while True:\n",
    "        try:\n",
    "            eng[\"name\"].append(scraper.find_all(\"h1\", {\"class\": \"width100 pageTitleFont ng-binding\"})[0].text)\n",
    "            break\n",
    "        except:\n",
    "            data = driver.execute_script(\"return document.documentElement.innerHTML\")\n",
    "            scraper = BeautifulSoup(data, \"lxml\")\n",
    "            continue\n",
    "    \n",
    "    try:\n",
    "        eng[\"branch\"].append(scraper.find_all(\"div\", {\"ng-if\": \"coaching.type == 'Coaching'\", \"class\": \"baseFont ng-binding ng-scope\"})[0].text)\n",
    "    except:\n",
    "        eng[\"branch\"].append(None)\n",
    "    \n",
    "    try:\n",
    "        eng[\"address\"].append(scraper.find_all(\"div\", {\"class\": \"width100 paddingT10 ng-binding\"})[0].text)\n",
    "    except:\n",
    "        eng[\"address\"].append(None)\n",
    "    try:\n",
    "        eng[\"website\"].append(scraper.find_all(\"a\", {\"class\": \"hoverUnderline ng-binding\"})[0].text)\n",
    "    except:\n",
    "        eng[\"website\"].append(None)\n",
    "        \n",
    "    try:\n",
    "        p = scraper.find_all(\"a\", {\"class\": \"ng-binding ng-scope\"})\n",
    "        ps = []\n",
    "        for j in p:\n",
    "            ps.append(j.text)\n",
    "    \n",
    "        eng[\"phno\"].append(ps)\n",
    "    except:\n",
    "        eng[\"phno\"].append(None)\n",
    "    \n",
    "    try:\n",
    "        b = scraper.find_all(\"a\", {\"class\": \"inlineLink ng-binding\",\n",
    "                               \"ui-sref\":\"x5({nameslug: thisCenter.nameslug, areaslug: thisCenter.areaslug })\"})\n",
    "        bs = []\n",
    "        for i in b:\n",
    "            bs.append(i.text)\n",
    "        eng[\"branches\"].append(bs)\n",
    "    except:\n",
    "        eng[\"branches\"].append(None)\n",
    "\n",
    "    try:\n",
    "        e = scraper.find_all(\"a\", {\"class\": \"hoverUnderline ng-binding ng-scope\"})\n",
    "        es = []\n",
    "        for j in e:\n",
    "            es.append(j.text)\n",
    "    \n",
    "        eng[\"email\"].append(es)\n",
    "    except:\n",
    "        eng[\"email\"].append(None)\n",
    "    \n",
    "    try:\n",
    "        img = scraper.find_all(\"img\", {\"class\":\"width100 ng-scope\"})[0].get(\"data-src\")\n",
    "        img_path = os.path.join(scrape_directory, os.path.basename(str(c)+\".jpg\")\n",
    "        urlretrieve(img, img_path))\n",
    "        eng[\"logo\"].append(img_path)\n",
    "    except:\n",
    "        eng[\"logo\"].append(None)\n",
    "        \n",
    "    c+=1\n",
    "\n",
    "d = pd.DataFrame(eng)"
   ]
  },
  {
   "cell_type": "code",
   "execution_count": null,
   "metadata": {},
   "outputs": [],
   "source": []
  },
  {
   "cell_type": "code",
   "execution_count": null,
   "metadata": {},
   "outputs": [],
   "source": []
  },
  {
   "cell_type": "code",
   "execution_count": null,
   "metadata": {},
   "outputs": [],
   "source": []
  },
  {
   "cell_type": "code",
   "execution_count": null,
   "metadata": {},
   "outputs": [],
   "source": [
    "driver.get(\"https://www.exambazaar.com/c/mvm-classes/rohini-delhi\")"
   ]
  },
  {
   "cell_type": "code",
   "execution_count": null,
   "metadata": {},
   "outputs": [],
   "source": [
    "data = driver.execute_script(\"return document.documentElement.innerHTML\")"
   ]
  },
  {
   "cell_type": "code",
   "execution_count": null,
   "metadata": {},
   "outputs": [],
   "source": [
    "scraper = BeautifulSoup(data, \"lxml\")\n",
    "scraper.find_all(\"h1\", {\"class\": \"width100 pageTitleFont ng-binding\"})\n"
   ]
  },
  {
   "cell_type": "code",
   "execution_count": null,
   "metadata": {},
   "outputs": [],
   "source": [
    "scraper.find_all(\"div\", {\"ng-if\": \"coaching.type == 'Coaching'\", \"class\": \"baseFont ng-binding ng-scope\"})[0].text"
   ]
  },
  {
   "cell_type": "code",
   "execution_count": null,
   "metadata": {},
   "outputs": [],
   "source": [
    "scraper.find_all(\"div\", {\"class\": \"width100 paddingT10 ng-binding\"})[0].text"
   ]
  },
  {
   "cell_type": "code",
   "execution_count": null,
   "metadata": {},
   "outputs": [],
   "source": [
    "# loop\n",
    "scraper.find_all(\"a\", {\"class\": \"hoverUnderline ng-binding\"})[0].text\n"
   ]
  },
  {
   "cell_type": "code",
   "execution_count": null,
   "metadata": {},
   "outputs": [],
   "source": [
    "# loop\n",
    "scraper.find_all(\"a\", {\"class\": \"ng-binding ng-scope\"})[0].text"
   ]
  },
  {
   "cell_type": "code",
   "execution_count": null,
   "metadata": {},
   "outputs": [],
   "source": [
    "# loop\n",
    "scraper.find_all(\"a\", {\"class\": \"hoverUnderline ng-binding ng-scope\"})[0].text"
   ]
  },
  {
   "cell_type": "code",
   "execution_count": null,
   "metadata": {},
   "outputs": [],
   "source": [
    "img = scraper.find_all(\"img\", {\"class\":\"width100 ng-scope\"})[0].get(\"data-src\")\n",
    "urlretrieve(img_src, os.path.join(scrape_directory\\, os.path.basename(img_src)))"
   ]
  },
  {
   "cell_type": "code",
   "execution_count": null,
   "metadata": {},
   "outputs": [],
   "source": [
    "# branches\n",
    "scraper.find_all(\"a\", {\"class\": \"inlineLink ng-binding\", \"ui-sref\":\"x5({nameslug: thisCenter.nameslug, areaslug: thisCenter.areaslug })\"})[0].text\n",
    "\n",
    "\n",
    "\n",
    "# TODO : Add branch links as well"
   ]
  },
  {
   "cell_type": "code",
   "execution_count": null,
   "metadata": {},
   "outputs": [],
   "source": []
  }
 ],
 "metadata": {
  "kernelspec": {
   "display_name": "Python 3",
   "language": "python",
   "name": "python3"
  },
  "language_info": {
   "codemirror_mode": {
    "name": "ipython",
    "version": 3
   },
   "file_extension": ".py",
   "mimetype": "text/x-python",
   "name": "python",
   "nbconvert_exporter": "python",
   "pygments_lexer": "ipython3",
   "version": "3.7.0"
  }
 },
 "nbformat": 4,
 "nbformat_minor": 2
}
